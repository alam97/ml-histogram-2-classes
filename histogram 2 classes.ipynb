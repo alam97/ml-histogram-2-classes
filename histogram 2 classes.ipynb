{
 "cells": [
  {
   "cell_type": "code",
   "execution_count": 415,
   "id": "a17afbc8",
   "metadata": {},
   "outputs": [],
   "source": [
    "import numpy as np\n",
    "import matplotlib.pyplot as plt\n",
    "from PIL import Image\n",
    "# dla srodowiska nie jupyter notebook komentujemy %matplotlib inline sluzy ona tylko do wyswietlenia wykresow\n",
    "%matplotlib inline"
   ]
  },
  {
   "cell_type": "code",
   "execution_count": 420,
   "id": "41e3e473",
   "metadata": {},
   "outputs": [],
   "source": [
    "# Pobierz obraz\n",
    "im = Image.open('cameraman.tif')\n",
    "# np array \"kompresuje\" obraz do jednowymiarowego ciagu\n",
    "imarray = np.array(im)\n",
    "# Wartość N to dlugosc ciagu\n",
    "n = np.size(imarray)"
   ]
  },
  {
   "cell_type": "code",
   "execution_count": 421,
   "id": "4bcf0e0f",
   "metadata": {},
   "outputs": [],
   "source": [
    "def histogram(image):\n",
    "    # Funkcja unique + return_counts=True dla numpy array listuje elementy wystepujace\n",
    "    # w ciagu razem z ich czestotliwościa\n",
    "    unique, counts = np.unique(imarray, return_counts=True)\n",
    "    # Wynikiem jest slownik odcieni od 0 do 255 i ich czestotliwosc w obrazie\n",
    "    hist = dict(zip(unique, counts))\n",
    "    return hist"
   ]
  },
  {
   "cell_type": "code",
   "execution_count": 422,
   "id": "2a2b741c",
   "metadata": {},
   "outputs": [],
   "source": [
    "# Otrzymuje swoj histogram\n",
    "hist = histogram(imarray)"
   ]
  },
  {
   "cell_type": "code",
   "execution_count": 423,
   "id": "b85cd02e",
   "metadata": {},
   "outputs": [],
   "source": [
    "def no(t):\n",
    "    # Obliczam sume poprzez wbudowana funkcje np array \"sum\", ktora sumuje ciag\n",
    "    # Ciag przedstawilam za pomoca list comprehension \n",
    "    return np.sum([hist[i] for i in range(t-1) if i in hist])"
   ]
  },
  {
   "cell_type": "code",
   "execution_count": 424,
   "id": "5cb420ea",
   "metadata": {},
   "outputs": [],
   "source": [
    "def mso(t):\n",
    "    # Obliczam sume poprzez wbudowana funkcje np array \"sum\", ktora sumuje ciag\n",
    "    # Ciag przedstawilam za pomoca list comprehension \n",
    "    licznik = np.sum([i*hist[i] for i in range(t-1) if i in hist])\n",
    "    # Aby uniknac exception \"inf\" zwiazanym z dzieleniem przez 0, sprawdzam, czy no jest zerem\n",
    "    if no(t) == 0:\n",
    "        return 0\n",
    "    else: \n",
    "        return licznik / no(t)"
   ]
  },
  {
   "cell_type": "code",
   "execution_count": 425,
   "id": "265d2607",
   "metadata": {},
   "outputs": [],
   "source": [
    "def po(t):\n",
    "    # n zawsze jest > 0, nie ma potrzeby sprawdzac warunku \n",
    "    return no(t) / n"
   ]
  },
  {
   "cell_type": "code",
   "execution_count": 426,
   "id": "c57e25bf",
   "metadata": {},
   "outputs": [],
   "source": [
    "def ms1(t):\n",
    "    licznik = np.sum([ i*hist[i] for i in range(t, 256) if i in hist])\n",
    "    # Aby uniknac exception \"inf\" zwiazanym z dzieleniem przez 0, sprawdzam, czy n - no jest zerem\n",
    "    if (n - no(t)) == 0:\n",
    "        mst1 = 0\n",
    "    else:\n",
    "        mst1 = licznik / (n - no(t))\n",
    "    return mst1"
   ]
  },
  {
   "cell_type": "code",
   "execution_count": 427,
   "id": "7fe6c7ad",
   "metadata": {},
   "outputs": [],
   "source": [
    "def p1(t):\n",
    "    return 1 - po(t)"
   ]
  },
  {
   "cell_type": "code",
   "execution_count": 428,
   "id": "47acde17",
   "metadata": {},
   "outputs": [],
   "source": [
    "def oblicz_t():\n",
    "    # Tworze slownik klucz:wartosc, gdzie kluczem jest t a wartoscia jest obliczona funkcja\n",
    "    # Slownik tworze przez dictionary comprehension\n",
    "    t_values = {t: po(t) * p1(t) * ((mso(t) - ms1(t)) ** 2) for t in range(256)}\n",
    "    # szukam t poprzez przeszukanie max wartosci t\n",
    "    t = max(zip(t_values.values(), t_values.keys()))[1]\n",
    "    return t"
   ]
  },
  {
   "cell_type": "code",
   "execution_count": 429,
   "id": "51af6914",
   "metadata": {},
   "outputs": [],
   "source": [
    "def rysuj_histogram(hist):\n",
    "    # Generuje Histogram przy pomocy funckji pyplot\n",
    "    plt.bar(list(hist.keys()), list(hist.values()), color='r')\n",
    "    plt.title(\"Histogram\")\n",
    "    # zapisz wykres do pliku\n",
    "    plt.savefig('histogram_lamar.jpg')\n",
    "    # dla srodowiska nie jupyter notebook, trzeba dodac plt.show()"
   ]
  },
  {
   "cell_type": "code",
   "execution_count": 430,
   "id": "07b78163",
   "metadata": {},
   "outputs": [
    {
     "data": {
      "text/plain": [
       "88"
      ]
     },
     "execution_count": 430,
     "metadata": {},
     "output_type": "execute_result"
    }
   ],
   "source": [
    "t = oblicz_t()\n",
    "t"
   ]
  },
  {
   "cell_type": "code",
   "execution_count": 431,
   "id": "941c84d3",
   "metadata": {},
   "outputs": [
    {
     "data": {
      "image/png": "[encoded data removed]",
      "text/plain": [
       "<Figure size 432x288 with 1 Axes>"
      ]
     },
     "metadata": {
      "needs_background": "light"
     },
     "output_type": "display_data"
    }
   ],
   "source": [
    "# podglad histogramu\n",
    "rysuj_histogram(hist)\n",
    "# podglad zdjecia\n",
    "im.show()"
   ]
  },
  {
   "cell_type": "code",
   "execution_count": null,
   "id": "54da769d",
   "metadata": {},
   "outputs": [],
   "source": []
  }
 ],
 "metadata": {
  "kernelspec": {
   "display_name": "Python 3",
   "language": "python",
   "name": "python3"
  },
  "language_info": {
   "codemirror_mode": {
    "name": "ipython",
    "version": 3
   },
   "file_extension": ".py",
   "mimetype": "text/x-python",
   "name": "python",
   "nbconvert_exporter": "python",
   "pygments_lexer": "ipython3",
   "version": "3.8.8"
  }
 },
 "nbformat": 4,
 "nbformat_minor": 5
}
